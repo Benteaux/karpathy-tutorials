{
  "nbformat": 4,
  "nbformat_minor": 0,
  "metadata": {
    "colab": {
      "provenance": [],
      "authorship_tag": "ABX9TyPhv2Y+DeRGzPtyvNEPvjkw",
      "include_colab_link": true
    },
    "kernelspec": {
      "name": "python3",
      "display_name": "Python 3"
    },
    "language_info": {
      "name": "python"
    }
  },
  "cells": [
    {
      "cell_type": "markdown",
      "metadata": {
        "id": "view-in-github",
        "colab_type": "text"
      },
      "source": [
        "<a href=\"https://colab.research.google.com/github/Benteaux/karpathy-tutorials/blob/main/notebooks/makemore3.ipynb\" target=\"_parent\"><img src=\"https://colab.research.google.com/assets/colab-badge.svg\" alt=\"Open In Colab\"/></a>"
      ]
    },
    {
      "cell_type": "code",
      "source": [
        "# makemore 3!"
      ],
      "metadata": {
        "id": "IGDjEe4DOu0K"
      },
      "execution_count": null,
      "outputs": []
    },
    {
      "cell_type": "code",
      "execution_count": null,
      "metadata": {
        "id": "dpxfflbYOCkd"
      },
      "outputs": [],
      "source": [
        "import torch\n",
        "import matplotlib.pyplot as plt\n",
        "names = open(\"names.txt\", \"r\").read().splitlines()"
      ]
    },
    {
      "cell_type": "code",
      "source": [
        "len(names)"
      ],
      "metadata": {
        "colab": {
          "base_uri": "https://localhost:8080/"
        },
        "id": "SVY60IXUOypw",
        "outputId": "bfa47476-d49b-4cda-eee7-fa827e21c074"
      },
      "execution_count": null,
      "outputs": [
        {
          "output_type": "execute_result",
          "data": {
            "text/plain": [
              "32033"
            ]
          },
          "metadata": {},
          "execution_count": 3
        }
      ]
    },
    {
      "cell_type": "code",
      "source": [
        "alphabet = sorted(list(set('.'.join(names))))\n",
        "stoi = {s:i for i, s in enumerate(alphabet)}\n",
        "itos = {i:s for s, i in stoi.items()}"
      ],
      "metadata": {
        "id": "EnbDK-18Oy8I"
      },
      "execution_count": null,
      "outputs": []
    },
    {
      "cell_type": "code",
      "source": [
        "X, Y = [], []\n",
        "block = 3 # size of context window\n",
        "for name in names:\n",
        "  context = [0] * block\n",
        "  for char in name + '.':\n",
        "    ix = stoi[char]\n",
        "    X.append(context)\n",
        "    Y.append(ix)\n",
        "    context = context[1:] + [ix]\n"
      ],
      "metadata": {
        "id": "LcfD6Xu6PANw"
      },
      "execution_count": null,
      "outputs": []
    },
    {
      "cell_type": "code",
      "source": [
        "x = torch.tensor(X)\n",
        "y = torch.tensor(Y)"
      ],
      "metadata": {
        "id": "jhC03VBTPe-U"
      },
      "execution_count": null,
      "outputs": []
    },
    {
      "cell_type": "code",
      "source": [
        "x, y"
      ],
      "metadata": {
        "colab": {
          "base_uri": "https://localhost:8080/"
        },
        "id": "bzq9MXWYyWCh",
        "outputId": "47b8ef3e-8a74-4436-eec8-e7907c45cfa7"
      },
      "execution_count": null,
      "outputs": [
        {
          "output_type": "execute_result",
          "data": {
            "text/plain": [
              "(tensor([[ 0,  0,  0],\n",
              "         [ 0,  0,  5],\n",
              "         [ 0,  5, 13],\n",
              "         ...,\n",
              "         [26, 26, 25],\n",
              "         [26, 25, 26],\n",
              "         [25, 26, 24]]),\n",
              " tensor([ 5, 13, 13,  ..., 26, 24,  0]))"
            ]
          },
          "metadata": {},
          "execution_count": 7
        }
      ]
    },
    {
      "cell_type": "code",
      "source": [
        "block = 3\n",
        "def build_dataset(data):\n",
        "  x = []\n",
        "  y = []\n",
        "  for name in data:\n",
        "    context = [0] * block\n",
        "    for char in name + '.':\n",
        "      ix = stoi[char]\n",
        "      x.append(context)\n",
        "      y.append(ix)\n",
        "      context = context[1:] + [ix]\n",
        "\n",
        "  x = torch.tensor(x)\n",
        "  y = torch.tensor(y)\n",
        "  print(f'{x.shape}, {y.shape}')\n",
        "  return x, y\n",
        "\n",
        "import random\n",
        "random.seed(1)\n",
        "random.shuffle(names)\n",
        "length = len(names)\n",
        "n1 = int((0.8 * length))\n",
        "n2 = int((0.9 * length))\n",
        "\n",
        "xtr, ytr = build_dataset(names[:n1])\n",
        "xdev, ydev = build_dataset(names[n1:n2])\n",
        "xte, yte = build_dataset(names[n2:])"
      ],
      "metadata": {
        "colab": {
          "base_uri": "https://localhost:8080/"
        },
        "id": "BPG-mEUHapC5",
        "outputId": "41570072-7bb4-4ff4-a2fe-b787456ea366"
      },
      "execution_count": null,
      "outputs": [
        {
          "output_type": "stream",
          "name": "stdout",
          "text": [
            "torch.Size([182254, 3]), torch.Size([182254])\n",
            "torch.Size([22914, 3]), torch.Size([22914])\n",
            "torch.Size([22978, 3]), torch.Size([22978])\n"
          ]
        }
      ]
    },
    {
      "cell_type": "code",
      "source": [
        "\n",
        "g = torch.Generator().manual_seed(1)\n",
        "# create a table\n",
        "em_dim = 50\n",
        "n_hidden = 300\n",
        "vocab_size = 27\n",
        "C = torch.randn((vocab_size, em_dim), generator = g) # for each letter we want a row with x embedding values\n",
        "W1 = torch.randn((em_dim * block, n_hidden), generator = g) * 0.01 #(5/3) / ((em_dim * block) ** 0.5)\n",
        "# b1 = torch.randn(n_hidden, generator = g) * 0.1 # kaparthy says having it slightly greater than 0 has helped with training\n",
        "W2 = torch.randn((n_hidden, vocab_size), generator = g) * 0.01\n",
        "b2 = torch.randn(vocab_size, generator = g) * 0\n",
        "\n",
        "batchScale = torch.ones((1, n_hidden))\n",
        "batchBias = torch.zeros((1, n_hidden))\n",
        "batchmean_running = torch.zeros((1, n_hidden))\n",
        "batchstd_running = torch.ones((1, n_hidden))\n",
        "parameters = (C, W1, W2, b2, batchScale, batchBias)"
      ],
      "metadata": {
        "id": "doSj261gR6V3"
      },
      "execution_count": null,
      "outputs": []
    },
    {
      "cell_type": "code",
      "source": [
        "sum(p.nelement() for p in parameters)"
      ],
      "metadata": {
        "colab": {
          "base_uri": "https://localhost:8080/"
        },
        "id": "gtSctDVt6qHM",
        "outputId": "fa1eb783-c1e4-445c-b698-73f3a4aa45f0"
      },
      "execution_count": null,
      "outputs": [
        {
          "output_type": "execute_result",
          "data": {
            "text/plain": [
              "55077"
            ]
          },
          "metadata": {},
          "execution_count": 65
        }
      ]
    },
    {
      "cell_type": "code",
      "source": [
        "for p in parameters:\n",
        "  p.requires_grad = True"
      ],
      "metadata": {
        "id": "jlaRNpHDKcIO"
      },
      "execution_count": null,
      "outputs": []
    },
    {
      "cell_type": "code",
      "source": [
        "xtr.shape, ytr.shape"
      ],
      "metadata": {
        "colab": {
          "base_uri": "https://localhost:8080/"
        },
        "id": "F28DejkBK-EH",
        "outputId": "9989116f-afd2-45c9-d46c-5de6e6d2fd99"
      },
      "execution_count": null,
      "outputs": [
        {
          "output_type": "execute_result",
          "data": {
            "text/plain": [
              "(torch.Size([182254, 3]), torch.Size([182254]))"
            ]
          },
          "metadata": {},
          "execution_count": 67
        }
      ]
    },
    {
      "cell_type": "code",
      "source": [
        "# lre = torch.linspace(-3, 0, 1000)\n",
        "# lrs = 10**lre"
      ],
      "metadata": {
        "id": "BHeC2dOkU4as"
      },
      "execution_count": null,
      "outputs": []
    },
    {
      "cell_type": "code",
      "source": [
        "\n",
        "lri = []\n",
        "losses = []\n",
        "stepi = []\n",
        "for i in range(100000):\n",
        "  # forward pass\n",
        "  ix = torch.randint(0, xtr.shape[0], (32,))\n",
        "  emb = C[xtr[ix]]\n",
        "  # batch norm\n",
        "  hpreact = emb.view(-1, em_dim * block) @ W1\n",
        "  bmeani = hpreact.mean(0, keepdims= True)\n",
        "  bstdi = hpreact.std(0, keepdims = True)\n",
        "  hpreact = batchScale * (hpreact - bmeani) / (bstdi + 1e-5) + batchBias\n",
        "  with torch.no_grad():\n",
        "    batchmean_running = 0.999 * batchmean_running + 0.01 * bmeani\n",
        "    batchstd_running = 0.999 + batchstd_running + 0.01 * bstdi\n",
        "\n",
        "  #print(loss.item())\n",
        "  # nonlinearity\n",
        "  h = torch.tanh(hpreact)\n",
        "  logits = h @ W2 + b2\n",
        "  loss = torch.nn.functional.cross_entropy(logits, ytr[ix])\n",
        "\n",
        "\n",
        "  # backward pass\n",
        "  for p in parameters:\n",
        "    p.grad = None\n",
        "  loss.backward()\n",
        "\n",
        "  # optimization\n",
        "  lr = 0.1 if i < 70000 else 0.01 if i < 90000 else 0.001\n",
        "  for p in parameters:\n",
        "    p.data += -lr * p.grad\n",
        "  #lri.append(lrs[i])\n",
        "  stepi.append(i)\n",
        "  losses.append(loss.log10().item())"
      ],
      "metadata": {
        "id": "hgpTBNIDKpjw"
      },
      "execution_count": null,
      "outputs": []
    },
    {
      "cell_type": "code",
      "source": [
        "loss.item()"
      ],
      "metadata": {
        "colab": {
          "base_uri": "https://localhost:8080/"
        },
        "id": "xA5xwpW2nQtr",
        "outputId": "0c476e05-ac60-43f3-982c-b922765ba1ef"
      },
      "execution_count": null,
      "outputs": [
        {
          "output_type": "execute_result",
          "data": {
            "text/plain": [
              "2.665543794631958"
            ]
          },
          "metadata": {},
          "execution_count": 40
        }
      ]
    },
    {
      "cell_type": "code",
      "source": [
        "loss.item()"
      ],
      "metadata": {
        "colab": {
          "base_uri": "https://localhost:8080/"
        },
        "id": "2WqyL5bsY6em",
        "outputId": "09095735-7be9-464a-f251-eab29c0ff912"
      },
      "execution_count": null,
      "outputs": [
        {
          "output_type": "execute_result",
          "data": {
            "text/plain": [
              "2.1040196418762207"
            ]
          },
          "metadata": {},
          "execution_count": 30
        }
      ]
    },
    {
      "cell_type": "code",
      "source": [
        "plt.plot(stepi, losses)"
      ],
      "metadata": {
        "colab": {
          "base_uri": "https://localhost:8080/",
          "height": 447
        },
        "id": "xh-tgjlYnR0K",
        "outputId": "97ef5548-03e8-445e-f41c-dcedf3934d6d"
      },
      "execution_count": null,
      "outputs": [
        {
          "output_type": "execute_result",
          "data": {
            "text/plain": [
              "[<matplotlib.lines.Line2D at 0x7f44e881f760>]"
            ]
          },
          "metadata": {},
          "execution_count": 41
        },
        {
          "output_type": "display_data",
          "data": {
            "text/plain": [
              "<Figure size 640x480 with 1 Axes>"
            ],
            "image/png": "[encoded data removed]"
          },
          "metadata": {}
        }
      ]
    },
    {
      "cell_type": "code",
      "source": [
        "plt.plot(stepi, losses)"
      ],
      "metadata": {
        "colab": {
          "base_uri": "https://localhost:8080/",
          "height": 447
        },
        "id": "uHVnHDitBIpL",
        "outputId": "20e85773-8a7b-4d6f-eca8-9d9a58c148c7"
      },
      "execution_count": null,
      "outputs": [
        {
          "output_type": "execute_result",
          "data": {
            "text/plain": [
              "[<matplotlib.lines.Line2D at 0x7f44ec87f280>]"
            ]
          },
          "metadata": {},
          "execution_count": 31
        },
        {
          "output_type": "display_data",
          "data": {
            "text/plain": [
              "<Figure size 640x480 with 1 Axes>"
            ],
            "image/png": "[encoded data removed]"
          },
          "metadata": {}
        }
      ]
    },
    {
      "cell_type": "code",
      "source": [
        "# loss on train set\n",
        "@torch.no_grad()\n",
        "def eval_loss(group):\n",
        "  x, y = {\n",
        "      'train': (xtr, ytr),\n",
        "      'val': (xdev, ydev),\n",
        "      'test': (xte, yte)\n",
        "  }[group]\n",
        "  emb = C[x]\n",
        "  hpreact = emb.view(-1, block * em_dim) @ W1\n",
        "  hpreact = batchScale * (hpreact - batchmean_running) / (batchstd_running + 1e-5) + batchBias\n",
        "  h = torch.tanh(hpreact)\n",
        "  print(h)\n",
        "  logits = h @ W2 + b2\n",
        "  loss = torch.nn.functional.cross_entropy(logits, y)\n",
        "  return (group, loss.item())\n",
        "eval_loss('train'), eval_loss('val')"
      ],
      "metadata": {
        "colab": {
          "base_uri": "https://localhost:8080/"
        },
        "id": "yyKCMVAteqUa",
        "outputId": "c0c85626-4e31-476a-b033-73556d17cf84"
      },
      "execution_count": null,
      "outputs": [
        {
          "output_type": "stream",
          "name": "stdout",
          "text": [
            "tensor([[-0.0941, -0.0493, -0.2371,  ...,  0.1508,  0.1098,  0.3114],\n",
            "        [-0.0941, -0.0493, -0.2372,  ...,  0.1508,  0.1098,  0.3114],\n",
            "        [-0.0941, -0.0493, -0.2371,  ...,  0.1508,  0.1098,  0.3114],\n",
            "        ...,\n",
            "        [-0.0940, -0.0493, -0.2371,  ...,  0.1508,  0.1098,  0.3114],\n",
            "        [-0.0941, -0.0493, -0.2371,  ...,  0.1509,  0.1098,  0.3114],\n",
            "        [-0.0941, -0.0493, -0.2371,  ...,  0.1509,  0.1098,  0.3114]])\n",
            "tensor([[-0.0941, -0.0493, -0.2371,  ...,  0.1508,  0.1098,  0.3114],\n",
            "        [-0.0941, -0.0493, -0.2371,  ...,  0.1509,  0.1098,  0.3114],\n",
            "        [-0.0941, -0.0493, -0.2372,  ...,  0.1509,  0.1098,  0.3114],\n",
            "        ...,\n",
            "        [-0.0941, -0.0493, -0.2372,  ...,  0.1508,  0.1098,  0.3114],\n",
            "        [-0.0940, -0.0493, -0.2372,  ...,  0.1509,  0.1098,  0.3114],\n",
            "        [-0.0941, -0.0493, -0.2371,  ...,  0.1508,  0.1098,  0.3114]])\n"
          ]
        },
        {
          "output_type": "execute_result",
          "data": {
            "text/plain": [
              "(('train', 2.8932056427001953), ('val', 2.8947739601135254))"
            ]
          },
          "metadata": {},
          "execution_count": 74
        }
      ]
    },
    {
      "cell_type": "code",
      "source": [
        "W1.grad.sum() # .sum() is also 0"
      ],
      "metadata": {
        "colab": {
          "base_uri": "https://localhost:8080/"
        },
        "id": "-Eu06TRapGFs",
        "outputId": "08f25710-a327-426e-f9ef-ce368e35e7a0"
      },
      "execution_count": null,
      "outputs": [
        {
          "output_type": "execute_result",
          "data": {
            "text/plain": [
              "tensor(-1.0332)"
            ]
          },
          "metadata": {},
          "execution_count": 70
        }
      ]
    },
    {
      "cell_type": "code",
      "source": [
        "W2.grad.sum()"
      ],
      "metadata": {
        "colab": {
          "base_uri": "https://localhost:8080/"
        },
        "id": "4zh3RZMQp7AB",
        "outputId": "662f2caa-3f99-49ef-8b34-9cffc4a6ecd5"
      },
      "execution_count": null,
      "outputs": [
        {
          "output_type": "execute_result",
          "data": {
            "text/plain": [
              "tensor(1.7881e-07)"
            ]
          },
          "metadata": {},
          "execution_count": 73
        }
      ]
    },
    {
      "cell_type": "code",
      "source": [
        "b2.grad.sum() # .sum() is also a small number"
      ],
      "metadata": {
        "colab": {
          "base_uri": "https://localhost:8080/"
        },
        "id": "_9237tONpHH6",
        "outputId": "126fa976-f46b-41f0-db20-05b6ac1e082b"
      },
      "execution_count": null,
      "outputs": [
        {
          "output_type": "execute_result",
          "data": {
            "text/plain": [
              "tensor(-2.2352e-08)"
            ]
          },
          "metadata": {},
          "execution_count": 71
        }
      ]
    },
    {
      "cell_type": "code",
      "source": [
        "# WHEN THE WEIGHTS AND BIASES ARE ALL INITIALIZED AT 0, ONLY THE BIASES TRAIN. WHY?"
      ],
      "metadata": {
        "id": "gjVOY4NenSwx"
      },
      "execution_count": null,
      "outputs": []
    },
    {
      "cell_type": "code",
      "source": [
        "uniform = torch.full((22886,27), -234902384.0)"
      ],
      "metadata": {
        "id": "Ivh4Uw76JFlM"
      },
      "execution_count": null,
      "outputs": []
    },
    {
      "cell_type": "code",
      "source": [
        "loss = torch.nn.functional.cross_entropy(uniform, ydev)\n",
        "loss"
      ],
      "metadata": {
        "id": "j4d_btE8IJU1"
      },
      "execution_count": null,
      "outputs": []
    },
    {
      "cell_type": "code",
      "source": [
        "# emb dim = 50 -> 2.3458\n",
        "# + exponential decay -> 2.1494 # randn initialization\n",
        "# + weight decay -> 2.1594, 2.1542, and similar values"
      ],
      "metadata": {
        "id": "wzv0wC74VtsE"
      },
      "execution_count": null,
      "outputs": []
    },
    {
      "cell_type": "markdown",
      "source": [
        "**NOTES**"
      ],
      "metadata": {
        "id": "LrySbectKvj_"
      }
    },
    {
      "cell_type": "code",
      "source": [
        "# MM3:\n",
        "# what is the epsilon used for in the batch normalization equation : when normalizing, if std is 0, we'll get a divide by 0 error. adding epsilon to the std lets us avoid that\n",
        "# how does the momentum parameter affect the effectiveness of batch normalization? : momentum being a scale for the importance of the new batch statistic being factored into the running statistic,\n",
        "# for larger batches it's ok to have this as a larger number since the stat will be similar among batches, but for smaller batches the stat can shift a lot and cause instability, so you want less momentum\n",
        "#"
      ],
      "metadata": {
        "id": "SfwBjIcoND1G"
      },
      "execution_count": null,
      "outputs": []
    },
    {
      "cell_type": "code",
      "source": [
        "for _ in range(1):\n",
        "  context = [0] * 3\n",
        "  word = []\n",
        "  while True:\n",
        "    emb = C[context]\n",
        "    print(emb.shape)\n",
        "    hpreact = emb.view(-1, block * em_dim) @ W1\n",
        "    hpreact = batchScale * (hpreact - batchmean_running) / (batchstd_running + 1e-5) + batchBias\n",
        "    h = torch.tanh(hpreact)\n",
        "    logits = h @ W2 + b2\n",
        "    probs = torch.nn.functional.softmax(logits, dim = 1)\n",
        "    ix = torch.multinomial(probs, num_samples = 1).item()\n",
        "    context = context[1:] + [ix]\n",
        "    word.append(ix)\n",
        "    if ix == 0:\n",
        "      break\n",
        "\n",
        "  print(''.join([itos[ix] for ix in word]))"
      ],
      "metadata": {
        "colab": {
          "base_uri": "https://localhost:8080/"
        },
        "id": "JhfuwQwnICKg",
        "outputId": "4cc70332-e5e6-40c6-a1b1-5de099ebb2e2"
      },
      "execution_count": null,
      "outputs": [
        {
          "output_type": "stream",
          "name": "stdout",
          "text": [
            "torch.Size([3, 50])\n",
            ".\n"
          ]
        }
      ]
    },
    {
      "cell_type": "code",
      "source": [
        "C = torch.randn((vocab_size, em_dim))\n",
        "PW1 = torch.randn((em_dim * block, n_hidden)) * (5/3) / (em_dim*block) ** 0.5\n",
        "# Pb1 = torch.zeros((1, n_hidden))\n",
        "PW2 = torch.randn((n_hidden, n_hidden)) * (5/3) / (n_hidden) ** 0.5\n",
        "# Pb2 = torch.zeros((1, n_hidden))\n",
        "PW3 = torch.randn((n_hidden, vocab_size)) * (5/3) / (n_hidden) ** 0.5\n",
        "Pb3 = torch.zeros((1, vocab_size))\n",
        "PbatchScale1 = torch.ones((1, n_hidden))\n",
        "PbatchShift1 = torch.zeros((1, n_hidden))\n",
        "PbatchScale2 = torch.ones((1, n_hidden))\n",
        "PbatchShift2 = torch.zeros((1, n_hidden))\n",
        "Pbatchmu_running1 = torch.zeros((1, n_hidden)) # do I need two running means and stds?\n",
        "Pbatchstd_running1 = torch.ones((1, n_hidden))\n",
        "Pbatchmu_running2 = torch.zeros((1, n_hidden)) # do I need two running means and stds?\n",
        "Pbatchstd_running2 = torch.ones((1, n_hidden))\n",
        "parameters2 = (C, PW1, PW2, PW3, Pb3, PbatchScale1, PbatchShift1, PbatchScale2, PbatchShift2)"
      ],
      "metadata": {
        "id": "oosPOjBlJB8x"
      },
      "execution_count": null,
      "outputs": []
    },
    {
      "cell_type": "code",
      "source": [
        "for p in parameters2:\n",
        "  p.requires_grad = True"
      ],
      "metadata": {
        "id": "Ik1I8ud2p_bR"
      },
      "execution_count": null,
      "outputs": []
    },
    {
      "cell_type": "code",
      "source": [
        "for _ in range(100000):\n",
        "  ix = torch.randint(0, xtr.shape[0], (32,))\n",
        "  emb = C[xtr[ix]]\n",
        "  # layer 1\n",
        "  hpreact = emb.view(-1, em_dim * block) @ PW1\n",
        "  # batchnorm 1\n",
        "  bmeani = hpreact.mean(0, keepdims = True)\n",
        "  bstdi = hpreact.std(0, keepdims = True)\n",
        "  hpreact = PbatchScale1 * (hpreact - bmeani) / (bstdi + 1e-5) + PbatchShift1\n",
        "  with torch.no_grad():\n",
        "    Pbatchmu_running1 = 0.999 * Pbatchmu_running1 + 0.001 * bmeani\n",
        "    Pbatchstd_running1 = 0.999 * Pbatchstd_running1 + 0.001 * bstdi\n",
        "  h = torch.tanh(hpreact)\n",
        "\n",
        "  # layer 2\n",
        "  hpreact2 = h @ PW2\n",
        "  # batchnorm 2\n",
        "  bmeani = hpreact2.mean(0, keepdims = True)\n",
        "  bstdi = hpreact2.std(0, keepdims = True)\n",
        "  hpreact2 = PbatchScale2 * (hpreact2 - bmeani) / (bstdi + 1e-5) + PbatchShift2\n",
        "  with torch.no_grad():\n",
        "    Pbatchmu_running2 = 0.999 * Pbatchmu_running2 + 0.001 * bmeani\n",
        "    Pbatchstd_running2 = 0.999 * Pbatchstd_running2 + 0.001 * bstdi\n",
        "  h2 = torch.tanh(hpreact2)\n",
        "\n",
        "  # layer 3\n",
        "  logits = h2 @ PW3 + Pb3\n",
        "\n",
        "  # backprop / loss\n",
        "  for p in parameters2:\n",
        "    p.grad = None\n",
        "  loss = torch.nn.functional.cross_entropy(logits, ytr[ix])\n",
        "  loss.backward()\n",
        "\n",
        "  # optimization\n",
        "  lr = 0.1 if _ < 60000 else 0.01 if _ < 90000 else 0.001\n",
        "  for p in parameters2:\n",
        "    p.data += lr * -p.grad\n"
      ],
      "metadata": {
        "id": "6WhRwNEprBp2"
      },
      "execution_count": null,
      "outputs": []
    },
    {
      "cell_type": "code",
      "source": [
        "# loss on train set\n",
        "@torch.no_grad()\n",
        "def eval_loss(group):\n",
        "  x, y = {\n",
        "      'train': (xtr, ytr),\n",
        "      'val': (xdev, ydev),\n",
        "      'test': (xte, yte)\n",
        "  }[group]\n",
        "  emb = C[x]\n",
        "  # layer 1\n",
        "  hpreact = emb.view(-1, em_dim * block) @ PW1\n",
        "  # batchnorm 1\n",
        "  hpreact = PbatchScale1 * (hpreact - Pbatchmu_running1) / (Pbatchstd_running1 + 1e-5) + PbatchShift1\n",
        "  h = torch.tanh(hpreact)\n",
        "\n",
        "  # layer 2\n",
        "  hpreact2 = h @ PW2\n",
        "  # batchnorm 2\n",
        "  hpreact2 = PbatchScale2 * (hpreact2 - Pbatchmu_running2) / (Pbatchstd_running2 + 1e-5) + PbatchShift2\n",
        "  h2 = torch.tanh(hpreact2)\n",
        "\n",
        "  # layer 3\n",
        "  logits = h2 @ PW3 + Pb3\n",
        "  loss = torch.nn.functional.cross_entropy(logits, y)\n",
        "  return (group, loss.item())\n",
        "\n",
        "eval_loss('train'), eval_loss('val')"
      ],
      "metadata": {
        "colab": {
          "base_uri": "https://localhost:8080/"
        },
        "id": "TkGtRPk2ysy5",
        "outputId": "d5f4f15a-ed91-45ea-a888-84a4d9edd4f7"
      },
      "execution_count": null,
      "outputs": [
        {
          "output_type": "execute_result",
          "data": {
            "text/plain": [
              "(('train', 2.005064010620117), ('val', 2.071836471557617))"
            ]
          },
          "metadata": {},
          "execution_count": 175
        }
      ]
    },
    {
      "cell_type": "code",
      "source": [
        "\n",
        "TW1 = PbatchScale1 * (PW1 / (Pbatchstd_running1 ** 2 + 1e-5) ** 0.5)\n",
        "TW2 = PbatchScale2 * (PW2 / (Pbatchstd_running2 ** 2 + 1e-5) ** 0.5)\n",
        "TW1 = PbatchScale1 * (PW1 / Pbatchstd_running1)\n",
        "TW2 = PbatchScale2 * (PW2 / Pbatchstd_running2)\n",
        "# loss on train set\n",
        "@torch.no_grad()\n",
        "def eval_loss(group):\n",
        "  x, y = {\n",
        "      'train': (xtr, ytr),\n",
        "      'val': (xdev, ydev),\n",
        "      'test': (xte, yte)\n",
        "  }[group]\n",
        "  emb = C[x]\n",
        "  # layer 1\n",
        "  hpreact = emb.view(-1, em_dim * block) @ TW1\n",
        "  h = torch.tanh(hpreact)\n",
        "\n",
        "  # layer 2\n",
        "  hpreact2 = h @ TW2\n",
        "  h2 = torch.tanh(hpreact2)\n",
        "\n",
        "  # layer 3\n",
        "  logits = h2 @ PW3 + Pb3\n",
        "  loss = torch.nn.functional.cross_entropy(logits, y)\n",
        "  return (group, loss.item())\n",
        "\n",
        "eval_loss('train'), eval_loss('val')"
      ],
      "metadata": {
        "colab": {
          "base_uri": "https://localhost:8080/"
        },
        "id": "4P-feBgPH0cr",
        "outputId": "d1f68f79-60e2-4bc6-8e7d-0856c282dfac"
      },
      "execution_count": null,
      "outputs": [
        {
          "output_type": "execute_result",
          "data": {
            "text/plain": [
              "(('train', 2.740064859390259), ('val', 2.7814457416534424))"
            ]
          },
          "metadata": {},
          "execution_count": 190
        }
      ]
    },
    {
      "cell_type": "code",
      "source": [
        "g = torch.Generator().manual_seed(1)\n",
        "for _ in range(20):\n",
        "  context = [0] * block\n",
        "  out = []\n",
        "\n",
        "  while True:\n",
        "    embedding = C[context]\n",
        "    # layer 1\n",
        "    hpreact = embedding.view(-1, em_dim * block) @ PW1\n",
        "    # batchnorm 1\n",
        "    hpreact = PbatchScale1 * (hpreact - Pbatchmu_running1) / (Pbatchstd_running1 + 1e-5) + PbatchShift1\n",
        "    h = torch.tanh(hpreact)\n",
        "\n",
        "    # layer 2\n",
        "    hpreact2 = h @ PW2\n",
        "    # batchnorm 2\n",
        "    hpreact2 = PbatchScale2 * (hpreact2 - Pbatchmu_running2) / (Pbatchstd_running2 + 1e-5) + PbatchShift2\n",
        "    h2 = torch.tanh(hpreact2)\n",
        "    # layer 3\n",
        "    logits = h2 @ PW3 + Pb3\n",
        "    probs = torch.nn.functional.softmax(logits, dim = 1)\n",
        "    ix = torch.multinomial(probs, num_samples = 1, generator = g).item()\n",
        "    context = context[1:] + [ix]\n",
        "    out.append(itos[ix])\n",
        "    if ix == 0:\n",
        "      break\n",
        "\n",
        "\n",
        "  print(''.join(out))"
      ],
      "metadata": {
        "colab": {
          "base_uri": "https://localhost:8080/"
        },
        "id": "9BmVM-5kwwZt",
        "outputId": "210d54c4-7e42-4123-a347-0549c377ec3d"
      },
      "execution_count": null,
      "outputs": [
        {
          "output_type": "stream",
          "name": "stdout",
          "text": [
            "him.\n",
            "cha.\n",
            "ela.\n",
            "cole.\n",
            "wila.\n",
            "bran.\n",
            "aalek.\n",
            "jali.\n",
            "raci.\n",
            "jayven.\n",
            "fenniah.\n",
            "wesley.\n",
            "avior.\n",
            "verlynn.\n",
            "ella.\n",
            "posin.\n",
            "joella.\n",
            "meerylan.\n",
            "milynne.\n",
            "mee.\n"
          ]
        }
      ]
    },
    {
      "cell_type": "code",
      "source": [
        "g = torch.Generator().manual_seed(1)\n",
        "TW1 = PbatchScale1 * (PW1 / (Pbatchstd_running1 ** 2 + 1e-5) ** 0.5)\n",
        "TW2 = PbatchScale2 * (PW2 / (Pbatchstd_running2 ** 2 + 1e-5) ** 0.5)\n",
        "g = torch.Generator().manual_seed(1)\n",
        "for _ in range(20):\n",
        "  context = [0] * block\n",
        "  out = []\n",
        "\n",
        "  while True:\n",
        "    embedding = C[context]\n",
        "    # layer 1\n",
        "    hpreact = embedding.view(-1, em_dim * block) @ TW1\n",
        "    # batchnorm 1\n",
        "    h = torch.tanh(hpreact)\n",
        "\n",
        "    # layer 2\n",
        "    hpreact2 = h @ PW2\n",
        "    # batchnorm 2\n",
        "    hpreact2 = PbatchScale2 * (hpreact2 - Pbatchmu_running2) / (Pbatchstd_running2 + 1e-5) + PbatchShift2 # haven't modified this line yet\n",
        "    h2 = torch.tanh(hpreact2)\n",
        "    # layer 3\n",
        "    logits = h2 @ PW3 + Pb3\n",
        "    probs = torch.nn.functional.softmax(logits, dim = 1)\n",
        "    ix = torch.multinomial(probs, num_samples = 1, generator = g).item()\n",
        "    context = context[1:] + [ix]\n",
        "    out.append(itos[ix])\n",
        "    if ix == 0:\n",
        "      break\n",
        "\n",
        "\n",
        "  print(''.join(out))"
      ],
      "metadata": {
        "colab": {
          "base_uri": "https://localhost:8080/"
        },
        "id": "JWdBbcrR3dnZ",
        "outputId": "6925d14b-cfde-435e-ccfd-a51399a1e574"
      },
      "execution_count": null,
      "outputs": [
        {
          "output_type": "stream",
          "name": "stdout",
          "text": [
            "alexxqqxqqqucagexqcqaequafaqaquiqqqiquequbqqquiqqquequizqaffozqwiqueqryqaqqquxqqqquif.\n",
            "adequsaqaqqqvqwqlffe.\n",
            "imqaffowe.\n",
            "aloqqquiqqqudvquaquexqqqucevaq.\n",
            "yelle.\n",
            "adaxqwqszqadflqeiqqbqbquqaquiqquinqqquikqiqseqaqvqxqqwqwqwqwqbrqquxqqquiqqwqhyxxqxqqxqqquddqwqwfixxqqqxxqgexqkqagvqaxqvqqqqeequaqriquequaquequiqquivqaqkxxqffanapo.\n",
            "illiq.\n",
            "alaqaquiqquiqqcelaqaxqwqwqwff.\n",
            "azjwqwffouxfexxqvqqqgexxqqquinqqxqqxqqquaxqffe.\n",
            "ahmqaquiqgexfixqaquiqquiqquaquiqqquif.\n",
            "adaqqqfeqiqquiqqueqiquequmqabhxqntxxlexxqqqqiqwqkfiqamqequaf.\n",
            "aliqabplxliqaggr.\n",
            "azhqapliah.\n",
            "aleqeqadfiq.\n",
            "ariquexquxqqqudflqeequcafoxxxxxxxxxxqkqiqxwqiqwquaqueqaqceleqaquiqquiqquiqquiqquequeqaqvqxqqwquafifaqiquef.\n",
            "asiq.\n",
            "iliqabrqqaffomqqquiqqquiqqujaqueqmqabjqxqqquif.\n",
            "arri.\n",
            "eas.\n",
            "aloqqquiqqqudzqqaqqqquaqlffemquafexxqvqqqiquexqqquiqqueqaffo.\n"
          ]
        }
      ]
    },
    {
      "cell_type": "code",
      "source": [
        " print(3)"
      ],
      "metadata": {
        "colab": {
          "base_uri": "https://localhost:8080/"
        },
        "id": "tWE4GBLayOKr",
        "outputId": "06030bd9-842b-40cc-f718-2b3dfa0d1cd0"
      },
      "execution_count": null,
      "outputs": [
        {
          "output_type": "stream",
          "name": "stdout",
          "text": [
            "3\n"
          ]
        }
      ]
    },
    {
      "cell_type": "code",
      "source": [],
      "metadata": {
        "id": "XwlB_MxxyOev"
      },
      "execution_count": null,
      "outputs": []
    }
  ]
}