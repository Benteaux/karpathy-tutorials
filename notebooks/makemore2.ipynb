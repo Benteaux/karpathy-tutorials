{
  "nbformat": 4,
  "nbformat_minor": 0,
  "metadata": {
    "colab": {
      "provenance": [],
      "authorship_tag": "ABX9TyMTLBTifCJp1x7CQi/BzuJo",
      "include_colab_link": true
    },
    "kernelspec": {
      "name": "python3",
      "display_name": "Python 3"
    },
    "language_info": {
      "name": "python"
    }
  },
  "cells": [
    {
      "cell_type": "markdown",
      "metadata": {
        "id": "view-in-github",
        "colab_type": "text"
      },
      "source": [
        "<a href=\"https://colab.research.google.com/github/Benteaux/karpathy-tutorials/blob/main/notebooks/makemore2.ipynb\" target=\"_parent\"><img src=\"https://colab.research.google.com/assets/colab-badge.svg\" alt=\"Open In Colab\"/></a>"
      ]
    },
    {
      "cell_type": "code",
      "source": [
        "# makemore 2!"
      ],
      "metadata": {
        "id": "IGDjEe4DOu0K"
      },
      "execution_count": null,
      "outputs": []
    },
    {
      "cell_type": "code",
      "execution_count": null,
      "metadata": {
        "id": "dpxfflbYOCkd"
      },
      "outputs": [],
      "source": [
        "import torch\n",
        "import matplotlib.pyplot as plt\n",
        "names = open(\"names.txt\", \"r\").read().splitlines()"
      ]
    },
    {
      "cell_type": "code",
      "source": [
        "len(names)"
      ],
      "metadata": {
        "colab": {
          "base_uri": "https://localhost:8080/"
        },
        "id": "SVY60IXUOypw",
        "outputId": "73277d8d-3a23-4a10-dc39-2454afdc20f9"
      },
      "execution_count": null,
      "outputs": [
        {
          "output_type": "execute_result",
          "data": {
            "text/plain": [
              "32033"
            ]
          },
          "metadata": {},
          "execution_count": 3
        }
      ]
    },
    {
      "cell_type": "code",
      "source": [
        "alphabet = sorted(list(set('.'.join(names))))\n",
        "stoi = {s:i for i, s in enumerate(alphabet)}\n",
        "itos = {i:s for s, i in stoi.items()}"
      ],
      "metadata": {
        "id": "EnbDK-18Oy8I"
      },
      "execution_count": null,
      "outputs": []
    },
    {
      "cell_type": "code",
      "source": [
        "X, Y = [], []\n",
        "block = 3 # size of context window\n",
        "for name in names:\n",
        "  context = [0] * block\n",
        "  for char in name + '.':\n",
        "    ix = stoi[char]\n",
        "    X.append(context)\n",
        "    Y.append(ix)\n",
        "    context = context[1:] + [ix]\n"
      ],
      "metadata": {
        "id": "LcfD6Xu6PANw"
      },
      "execution_count": null,
      "outputs": []
    },
    {
      "cell_type": "code",
      "source": [
        "x = torch.tensor(X)\n",
        "y = torch.tensor(Y)"
      ],
      "metadata": {
        "id": "jhC03VBTPe-U"
      },
      "execution_count": null,
      "outputs": []
    },
    {
      "cell_type": "code",
      "source": [
        "x, y"
      ],
      "metadata": {
        "colab": {
          "base_uri": "https://localhost:8080/"
        },
        "id": "bzq9MXWYyWCh",
        "outputId": "4c824a84-20e5-425b-ccb6-7f02cf04f34a"
      },
      "execution_count": null,
      "outputs": [
        {
          "output_type": "execute_result",
          "data": {
            "text/plain": [
              "(tensor([[ 0,  0,  0],\n",
              "         [ 0,  0,  5],\n",
              "         [ 0,  5, 13],\n",
              "         ...,\n",
              "         [26, 26, 25],\n",
              "         [26, 25, 26],\n",
              "         [25, 26, 24]]),\n",
              " tensor([ 5, 13, 13,  ..., 26, 24,  0]))"
            ]
          },
          "metadata": {},
          "execution_count": 7
        }
      ]
    },
    {
      "cell_type": "code",
      "source": [
        "block = 3\n",
        "def build_dataset(data):\n",
        "  x = []\n",
        "  y = []\n",
        "  for name in data:\n",
        "    context = [0] * block\n",
        "    for char in name + '.':\n",
        "      ix = stoi[char]\n",
        "      x.append(context)\n",
        "      y.append(ix)\n",
        "      context = context[1:] + [ix]\n",
        "\n",
        "  x = torch.tensor(x)\n",
        "  y = torch.tensor(y)\n",
        "  print(f'{x.shape}, {y.shape}')\n",
        "  return x, y\n",
        "\n",
        "import random\n",
        "random.seed(1)\n",
        "random.shuffle(names)\n",
        "length = len(names)\n",
        "n1 = int((0.8 * length))\n",
        "n2 = int((0.9 * length))\n",
        "\n",
        "xtr, ytr = build_dataset(names[:n1])\n",
        "xdev, ydev = build_dataset(names[n1:n2])\n",
        "xte, yte = build_dataset(names[n2:])"
      ],
      "metadata": {
        "colab": {
          "base_uri": "https://localhost:8080/"
        },
        "id": "BPG-mEUHapC5",
        "outputId": "0abaf824-9312-4315-e6a5-6f253ebac029"
      },
      "execution_count": null,
      "outputs": [
        {
          "output_type": "stream",
          "name": "stdout",
          "text": [
            "torch.Size([182254, 3]), torch.Size([182254])\n",
            "torch.Size([22914, 3]), torch.Size([22914])\n",
            "torch.Size([22978, 3]), torch.Size([22978])\n"
          ]
        }
      ]
    },
    {
      "cell_type": "code",
      "source": [
        "\n",
        "g = torch.Generator().manual_seed(1)\n",
        "# create a table\n",
        "em_dim = 50\n",
        "C = torch.randn((27, em_dim), generator = g) # for each letter we want a row with x embedding values\n",
        "W1 = torch.randn((em_dim * block, 300), generator = g) # 30 b/c for input context block size of 3, * 10 embedding values, we have 30 inputs when flattened\n",
        "b1 = torch.randn(300, generator = g)\n",
        "W2 = torch.randn((300, 27), generator = g)\n",
        "b2 = torch.randn(27, generator = g)\n",
        "parameters = (C, W1, b1, W2, b2)\n",
        "non_bias_params = (C, W1, W2)"
      ],
      "metadata": {
        "id": "doSj261gR6V3"
      },
      "execution_count": null,
      "outputs": []
    },
    {
      "cell_type": "code",
      "source": [
        "sum(p.nelement() for p in parameters)"
      ],
      "metadata": {
        "colab": {
          "base_uri": "https://localhost:8080/"
        },
        "id": "gtSctDVt6qHM",
        "outputId": "8131cdd4-2278-407b-c2b6-fd3c49595ec5"
      },
      "execution_count": null,
      "outputs": [
        {
          "output_type": "execute_result",
          "data": {
            "text/plain": [
              "54777"
            ]
          },
          "metadata": {},
          "execution_count": 96
        }
      ]
    },
    {
      "cell_type": "code",
      "source": [
        "for p in parameters:\n",
        "  p.requires_grad = True"
      ],
      "metadata": {
        "id": "jlaRNpHDKcIO"
      },
      "execution_count": null,
      "outputs": []
    },
    {
      "cell_type": "code",
      "source": [
        "xtr.shape, ytr.shape"
      ],
      "metadata": {
        "colab": {
          "base_uri": "https://localhost:8080/"
        },
        "id": "F28DejkBK-EH",
        "outputId": "9f6928cf-ebe7-461b-c637-006e215c77ef"
      },
      "execution_count": null,
      "outputs": [
        {
          "output_type": "execute_result",
          "data": {
            "text/plain": [
              "(torch.Size([182254, 3]), torch.Size([182254]))"
            ]
          },
          "metadata": {},
          "execution_count": 98
        }
      ]
    },
    {
      "cell_type": "code",
      "source": [
        "# lre = torch.linspace(-3, 0, 1000)\n",
        "# lrs = 10**lre"
      ],
      "metadata": {
        "id": "BHeC2dOkU4as"
      },
      "execution_count": null,
      "outputs": []
    },
    {
      "cell_type": "code",
      "source": [
        "scale = 0.0001\n",
        "lri = []\n",
        "losses = []\n",
        "stepi = []\n",
        "for i in range(100000):\n",
        "  # forward pass\n",
        "  ix = torch.randint(0, xtr.shape[0], (32,))\n",
        "  emb = C[xtr[ix]]\n",
        "  h = torch.tanh(emb.view(-1, em_dim * block) @ W1 + b1)\n",
        "  logits = h @ W2 + b2\n",
        "  decay_penalty = 0\n",
        "  for p in non_bias_params:\n",
        "    decay_penalty += p.sum()**2\n",
        "  loss = torch.nn.functional.cross_entropy(logits, ytr[ix]) + scale*decay_penalty\n",
        "  #print(loss.item())\n",
        "\n",
        "  # backward pass\n",
        "  for p in parameters:\n",
        "    p.grad = None\n",
        "  loss.backward()\n",
        "\n",
        "  # optimization\n",
        "  lr = 0.1 if i < 70000 else 0.01 if i < 90000 else 0.001\n",
        "  for p in parameters:\n",
        "    p.data += -lr * p.grad\n",
        "  #lri.append(lrs[i])\n",
        "  stepi.append(i)\n",
        "  losses.append(loss.log10().item())"
      ],
      "metadata": {
        "id": "hgpTBNIDKpjw"
      },
      "execution_count": null,
      "outputs": []
    },
    {
      "cell_type": "code",
      "source": [
        "loss.item()"
      ],
      "metadata": {
        "colab": {
          "base_uri": "https://localhost:8080/"
        },
        "id": "2WqyL5bsY6em",
        "outputId": "96fdca28-c496-45c1-d0cd-3da8c35dcb3c"
      },
      "execution_count": null,
      "outputs": [
        {
          "output_type": "execute_result",
          "data": {
            "text/plain": [
              "2.2036566734313965"
            ]
          },
          "metadata": {},
          "execution_count": 101
        }
      ]
    },
    {
      "cell_type": "code",
      "source": [
        "plt.plot(stepi, losses)"
      ],
      "metadata": {
        "colab": {
          "base_uri": "https://localhost:8080/",
          "height": 451
        },
        "id": "uHVnHDitBIpL",
        "outputId": "9e440483-e23b-4126-8838-f0a7179c9f3c"
      },
      "execution_count": null,
      "outputs": [
        {
          "output_type": "execute_result",
          "data": {
            "text/plain": [
              "[<matplotlib.lines.Line2D at 0x7a2b4d76c910>]"
            ]
          },
          "metadata": {},
          "execution_count": 102
        },
        {
          "output_type": "display_data",
          "data": {
            "text/plain": [
              "<Figure size 640x480 with 1 Axes>"
            ],
            "image/png": "[encoded data removed]"
          },
          "metadata": {}
        }
      ]
    },
    {
      "cell_type": "code",
      "source": [
        "# loss on train set\n",
        "emb = C[xtr]\n",
        "h = torch.tanh(emb.view(-1, block * em_dim) @ W1 + b1)\n",
        "logits = h @ W2 + b2\n",
        "loss = torch.nn.functional.cross_entropy(logits, ytr)\n",
        "loss"
      ],
      "metadata": {
        "colab": {
          "base_uri": "https://localhost:8080/"
        },
        "id": "yyKCMVAteqUa",
        "outputId": "9e5da437-206f-4030-96c1-b7012b9d02af"
      },
      "execution_count": null,
      "outputs": [
        {
          "output_type": "execute_result",
          "data": {
            "text/plain": [
              "tensor(2.0294, grad_fn=<NllLossBackward0>)"
            ]
          },
          "metadata": {},
          "execution_count": 103
        }
      ]
    },
    {
      "cell_type": "code",
      "source": [
        "# loss on dev set\n",
        "emb = C[xdev]\n",
        "h = torch.tanh(emb.view(-1, block * em_dim) @ W1 + b1)\n",
        "logits = h @ W2 + b2\n",
        "loss = torch.nn.functional.cross_entropy(logits, ydev)\n",
        "loss"
      ],
      "metadata": {
        "colab": {
          "base_uri": "https://localhost:8080/"
        },
        "id": "Bq8V_enrcy8x",
        "outputId": "cc1d3e17-e715-49b1-a76e-28ed48b533d1"
      },
      "execution_count": null,
      "outputs": [
        {
          "output_type": "execute_result",
          "data": {
            "text/plain": [
              "tensor(2.1542, grad_fn=<NllLossBackward0>)"
            ]
          },
          "metadata": {},
          "execution_count": 104
        }
      ]
    },
    {
      "cell_type": "code",
      "source": [
        "uniform = torch.full((22886,27), -234902384.0)"
      ],
      "metadata": {
        "id": "Ivh4Uw76JFlM"
      },
      "execution_count": null,
      "outputs": []
    },
    {
      "cell_type": "code",
      "source": [
        "loss = torch.nn.functional.cross_entropy(uniform, ydev)\n",
        "loss"
      ],
      "metadata": {
        "colab": {
          "base_uri": "https://localhost:8080/"
        },
        "id": "j4d_btE8IJU1",
        "outputId": "ebb09aa8-3f10-4451-9eae-7ed09597656b"
      },
      "execution_count": null,
      "outputs": [
        {
          "output_type": "execute_result",
          "data": {
            "text/plain": [
              "tensor(3.2958)"
            ]
          },
          "metadata": {},
          "execution_count": 87
        }
      ]
    },
    {
      "cell_type": "code",
      "source": [
        "# emb dim = 50 -> 2.3458\n",
        "# + exponential decay -> 2.1494 # randn initialization\n",
        "# + weight decay -> 2.1594, 1.1542, and similar values"
      ],
      "metadata": {
        "id": "wzv0wC74VtsE"
      },
      "execution_count": null,
      "outputs": []
    },
    {
      "cell_type": "code",
      "source": [
        "# optimize by indexing if possible\n",
        "# model smoothing / regularization can help prevent nan and overfitting\n",
        "# optimize with minibatches\n",
        "# overfit a single batch (see minimum possible loss) - helps catch bugs (explosion, instability, vanishing, etc)\n",
        "# larger models are more capable of overfitting\n",
        "# test a ton of learning rates (visualization helps find the best one)\n",
        "# dev split for optimizing hyperparameters (you use it to go back and make edits to the model)\n",
        "# test set should be looked at sparingly to avoid tweaking and then overfitting to test set\n",
        "# typically, optimize dev set, run test set once, then use test set's loss as \"the loss\" when you talk about your model"
      ],
      "metadata": {
        "id": "SfwBjIcoND1G"
      },
      "execution_count": null,
      "outputs": []
    }
  ]
}